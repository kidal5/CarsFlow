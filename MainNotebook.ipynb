{
 "cells": [
  {
   "cell_type": "code",
   "execution_count": 1,
   "metadata": {},
   "outputs": [],
   "source": [
    "%load_ext autoreload\n",
    "%autoreload 2\n",
    "\n",
    "import sys  \n",
    "sys.path.insert(0, 'code')\n",
    "\n",
    "import pandas as pd\n",
    "import xlsxwriter\n",
    "import os\n",
    "import os.path as osp\n",
    "import numpy as np\n",
    "\n",
    "#my code\n",
    "from load_utils import loadExcel\n",
    "from sheet_number_of_travels import createSheetNumberOfTravels\n",
    "from sheet_times import createSheetTimes\n",
    "from sheet_number_of_cars import createSheetNumberOfCars\n",
    "import yaml"
   ]
  },
  {
   "cell_type": "code",
   "execution_count": 2,
   "metadata": {},
   "outputs": [],
   "source": [
    "df = loadExcel('input/input.xlsx', N=9)"
   ]
  },
  {
   "cell_type": "code",
   "execution_count": 3,
   "metadata": {},
   "outputs": [],
   "source": [
    "if osp.isfile('out.xlsx'):\n",
    "    os.remove('out.xlsx')\n",
    "\n",
    "with open('parameters.yaml') as f:\n",
    "    params = yaml.safe_load(f)\n",
    "    \n",
    "try:\n",
    "    writer = pd.ExcelWriter('out.xlsx', engine='xlsxwriter')\n",
    "    createSheetNumberOfCars(df,writer,params)\n",
    "    writer.close()\n",
    "except Exception as e:\n",
    "    print(e)\n",
    "    writer.close()"
   ]
  },
  {
   "cell_type": "code",
   "execution_count": null,
   "metadata": {},
   "outputs": [],
   "source": []
  }
 ],
 "metadata": {
  "kernelspec": {
   "display_name": "Python 3 (ipykernel)",
   "language": "python",
   "name": "python3"
  },
  "language_info": {
   "codemirror_mode": {
    "name": "ipython",
    "version": 3
   },
   "file_extension": ".py",
   "mimetype": "text/x-python",
   "name": "python",
   "nbconvert_exporter": "python",
   "pygments_lexer": "ipython3",
   "version": "3.8.12"
  }
 },
 "nbformat": 4,
 "nbformat_minor": 4
}
