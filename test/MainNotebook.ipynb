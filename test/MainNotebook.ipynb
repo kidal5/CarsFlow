{
 "cells": [
  {
   "cell_type": "code",
   "execution_count": 69,
   "metadata": {},
   "outputs": [
    {
     "name": "stdout",
     "output_type": "stream",
     "text": [
      "The autoreload extension is already loaded. To reload it, use:\n",
      "  %reload_ext autoreload\n"
     ]
    }
   ],
   "source": [
    "%load_ext autoreload\n",
    "%autoreload 2\n",
    "\n",
    "import sys  \n",
    "sys.path.insert(0, '../')\n",
    "\n",
    "import pandas as pd\n",
    "import xlsxwriter\n",
    "import os\n",
    "import os.path as osp\n",
    "import numpy as np\n",
    "import datetime\n",
    "import datetime as dt\n",
    "from dataclasses import dataclass\n",
    "\n",
    "\n",
    "#my code\n",
    "from load_utils import loadExcel\n",
    "from sheet_number_of_travels import createSheetNumberOfTravels\n",
    "from sheet_times import createSheetTimes\n",
    "from sheet_number_of_cars import createSheetNumberOfCars, computeData, createFakeDataset\n",
    "import yaml"
   ]
  },
  {
   "cell_type": "code",
   "execution_count": 94,
   "metadata": {},
   "outputs": [],
   "source": [
    "with open('../parameters.yaml') as f:\n",
    "    params = yaml.safe_load(f)\n",
    "N = params['number_of_cameras']"
   ]
  },
  {
   "cell_type": "code",
   "execution_count": 95,
   "metadata": {},
   "outputs": [],
   "source": [
    "df_save = loadExcel('input.xlsx', N=params['number_of_cameras'])"
   ]
  },
  {
   "cell_type": "code",
   "execution_count": 96,
   "metadata": {},
   "outputs": [],
   "source": [
    "df = df_save.copy(deep=True)\n",
    "selectedDirections = [1,3,10,12]"
   ]
  },
  {
   "cell_type": "code",
   "execution_count": 97,
   "metadata": {
    "scrolled": false
   },
   "outputs": [],
   "source": [
    "writer.close()\n",
    "if osp.isfile('out.xlsx'):\n",
    "    os.remove('out.xlsx')\n",
    "\n",
    "with open('../parameters.yaml') as f:\n",
    "    params = yaml.safe_load(f)\n",
    "    \n",
    "    writer = pd.ExcelWriter('out.xlsx', engine='xlsxwriter')\n",
    "    createSheetNumberOfCars(df.copy(True), writer, params)\n",
    "    writer.close()\n"
   ]
  },
  {
   "cell_type": "code",
   "execution_count": 65,
   "metadata": {},
   "outputs": [
    {
     "name": "stderr",
     "output_type": "stream",
     "text": [
      "C:\\ProgramData\\Anaconda3\\lib\\site-packages\\xlsxwriter\\workbook.py:338: UserWarning: Calling close() on already closed file.\n",
      "  warn(\"Calling close() on already closed file.\")\n"
     ]
    }
   ],
   "source": [
    "writer.close()"
   ]
  },
  {
   "cell_type": "code",
   "execution_count": 88,
   "metadata": {},
   "outputs": [],
   "source": [
    "@dataclass\n",
    "class TimeStruct:\n",
    "    dateTimeStart: dt.datetime\n",
    "    dateTimeEnd: dt.datetime\n",
    "    sheetName: str\n",
    "\n",
    "    @staticmethod\n",
    "    def getFormat():\n",
    "        return \"%d.%m.%Y - %H:%M\"\n",
    "\n",
    "    @staticmethod\n",
    "    def normalizeDict(dictt, df):\n",
    "        ts = dictt['time_start']\n",
    "        te = dictt['time_end']\n",
    "\n",
    "        dictt['dateTime_start'] = df['Capture_time'].min().strftime('%d.%m.%Y') + \" - \" + ts\n",
    "        dictt['dateTime_end'] = df['Capture_time'].max().strftime('%d.%m.%Y') + \" - \" + te\n",
    "\n",
    "    @staticmethod\n",
    "    def createFromDict(dictt, df):\n",
    "        if 'dateTime_start' not in dictt:\n",
    "            TimeStruct.normalizeDict(dictt, df)\n",
    "\n",
    "        dts = dt.datetime.strptime(dictt['dateTime_start'], TimeStruct.getFormat())\n",
    "        dte = dt.datetime.strptime(dictt['dateTime_end'], TimeStruct.getFormat())\n",
    "\n",
    "        name = f'{dts.strftime(\"%H.%M\")} -> {dte.strftime(\"%H.%M\")}'\n",
    "        return TimeStruct(dts, dte, name)"
   ]
  },
  {
   "cell_type": "code",
   "execution_count": 86,
   "metadata": {},
   "outputs": [
    {
     "data": {
      "text/plain": [
       "TimeStruct(dateTimeStart=datetime.datetime(2021, 10, 7, 4, 50), dateTimeEnd=datetime.datetime(2021, 10, 7, 4, 50), sheetName='04.50 -> 04.50')"
      ]
     },
     "execution_count": 86,
     "metadata": {},
     "output_type": "execute_result"
    }
   ],
   "source": [
    "p = params['sheet_cars_count']['time_a']\n",
    "TimeStruct.createFromDict(p, df)"
   ]
  },
  {
   "cell_type": "code",
   "execution_count": 87,
   "metadata": {},
   "outputs": [
    {
     "data": {
      "text/plain": [
       "{'time_start': '04:50',\n",
       " 'time_end': '04:50',\n",
       " 'dateTime_start': '07.10.2021 - 04:50',\n",
       " 'dateTime_end': '07.10.2021 - 04:50'}"
      ]
     },
     "execution_count": 87,
     "metadata": {},
     "output_type": "execute_result"
    }
   ],
   "source": [
    "p"
   ]
  },
  {
   "cell_type": "code",
   "execution_count": null,
   "metadata": {},
   "outputs": [],
   "source": []
  },
  {
   "cell_type": "code",
   "execution_count": null,
   "metadata": {},
   "outputs": [],
   "source": []
  },
  {
   "cell_type": "code",
   "execution_count": null,
   "metadata": {},
   "outputs": [],
   "source": []
  },
  {
   "cell_type": "code",
   "execution_count": null,
   "metadata": {},
   "outputs": [],
   "source": []
  },
  {
   "cell_type": "code",
   "execution_count": null,
   "metadata": {},
   "outputs": [],
   "source": []
  },
  {
   "cell_type": "code",
   "execution_count": null,
   "metadata": {},
   "outputs": [],
   "source": []
  }
 ],
 "metadata": {
  "kernelspec": {
   "display_name": "Python 3 (ipykernel)",
   "language": "python",
   "name": "python3"
  },
  "language_info": {
   "codemirror_mode": {
    "name": "ipython",
    "version": 3
   },
   "file_extension": ".py",
   "mimetype": "text/x-python",
   "name": "python",
   "nbconvert_exporter": "python",
   "pygments_lexer": "ipython3",
   "version": "3.8.12"
  }
 },
 "nbformat": 4,
 "nbformat_minor": 4
}
